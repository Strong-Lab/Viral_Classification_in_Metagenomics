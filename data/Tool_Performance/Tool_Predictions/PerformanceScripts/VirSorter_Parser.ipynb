{
 "cells": [
  {
   "cell_type": "code",
   "execution_count": 30,
   "metadata": {},
   "outputs": [
    {
     "data": {
      "text/plain": [
       "0"
      ]
     },
     "execution_count": 30,
     "metadata": {},
     "output_type": "execute_result"
    }
   ],
   "source": [
    "import pandas as pd\n",
    "import os\n",
    "import numpy as np\n",
    "from sklearn.metrics import precision_score, recall_score, f1_score\n",
    "Headers = ['Contig_id', \"Nb_genes_contigs\", \"Fragment\", \"Nb_genes\", \"Category\", \"Nb_Phage_Hallmark\", \n",
    "           \"Phage_gene_enrichment\", \"Non-Caudovirales_gene_enrichment\", \"PFAM_Depletion\",\n",
    "           \"Uncharactered_Enrichment\", \"Strand_Switch_Depletion\", \"Short_Genes\"]\n",
    "\n",
    "#input_file = '../VirSorter/VirSorter_Data/VIRSorter_global-phage-signal_exponential_high.csv'\n",
    "input_file = '../../Nano_Reads_Tools/VirSorterNanoSimRaw.csv'\n",
    "commanded = \"sed '/^#/d' \" + input_file + \" > TestingParser.csv\"\n",
    "os.system(commanded)"
   ]
  },
  {
   "cell_type": "code",
   "execution_count": null,
   "metadata": {},
   "outputs": [],
   "source": []
  },
  {
   "cell_type": "code",
   "execution_count": null,
   "metadata": {},
   "outputs": [],
   "source": []
  },
  {
   "cell_type": "code",
   "execution_count": 32,
   "metadata": {},
   "outputs": [
    {
     "name": "stdout",
     "output_type": "stream",
     "text": [
      "Scores if prophages are considered bacteria\n",
      "Precision: 0.911573472\n",
      "Recall: 0.278838504\n",
      "F1 Score: 0.427048431\n",
      "(0.911573472, 0.278838504, 0.427048431)\n"
     ]
    }
   ],
   "source": [
    "df = pd.read_csv(\"TestingParser.csv\", header=None)\n",
    "df.columns = Headers\n",
    "df['Category'] = df['Category'].replace(np.nan, 0)\n",
    "df['Nb_Phage_Hallmark'] = df['Nb_Phage_Hallmark'].replace(np.nan, 0)\n",
    "df['Phage_gene_enrichment'] = df['Phage_gene_enrichment'].replace(np.nan, 'None')\n",
    "df['Category'] = df['Category'].astype(float)\n",
    "\n",
    "## Remove \n",
    "df['Prophage'] = np.where(df['Fragment'].apply(lambda x: 'gene' in x), 1, 0)\n",
    "df = df[df['Prophage']==0]\n",
    "\n",
    "\n",
    "df['True_Label'] = [x.split(\"_\")[1] for x in df[\"Contig_id\"]]\n",
    "df[\"True_Viral\"] = np.where(df['True_Label'].apply(lambda x: 'V' in x), 1, 0)\n",
    "df.groupby([\"Category\", \"Nb_Phage_Hallmark\"]).count()\n",
    "#df_confidence = df[df['Category']!=3]\n",
    "\n",
    "\n",
    "df2 = pd.read_csv(\"../../Contig_Abundance_By_Class_Simulation.csv\")\n",
    "simulation = input_file.split(\"_\")[-2]\n",
    "complexity = input_file.split(\"_\")[-1].split(\".\")[0]\n",
    "\n",
    "df2['Simulation'] = [x.lower() for x in df2['Simulation']]\n",
    "df2['Complexity'] = [x.lower() for x in df2['Complexity']]\n",
    "\n",
    "df1 = df2[(df2.Simulation == simulation) & (df2.Complexity == complexity)]\n",
    "#Phage_Count = int(df1['Phage'])\n",
    "#Prophage_Count = int(df1['Prophage'])\n",
    "Phage_Count = 2514\n",
    "\n",
    "### Without Prophage\n",
    "df = df[df['Category']!=3]\n",
    "df = df[df['True_Label']!=\"Prophage\"]\n",
    "x = df.groupby('True_Label').count()\n",
    "x = x[['Contig_id']]\n",
    "\n",
    "Phage_Predicted = int(x.loc[\"V\",])\n",
    "False_Negative_Phage = Phage_Count - Phage_Predicted\n",
    "\n",
    "\n",
    "y_true = [1 if x == \"V\" else 0 for x in df['True_Label']]\n",
    "y_pred = [1]*len(df)\n",
    "\n",
    "listofzeros = [0]*False_Negative_Phage\n",
    "listofones = [1]*False_Negative_Phage\n",
    "\n",
    "y_pred = y_pred + listofzeros\n",
    "y_true = y_true + listofones\n",
    "\n",
    "\n",
    "p = precision_score(y_true, y_pred)\n",
    "r = recall_score(y_true, y_pred)\n",
    "f1 = f1_score(y_true, y_pred)\n",
    "print(\"Scores if prophages are considered bacteria\")\n",
    "print(\"Precision: \" + str(round(p,9)))\n",
    "print(\"Recall: \" + str(round(r,9)))\n",
    "print(\"F1 Score: \" + str(round(f1,9)))\n",
    "my_dict = {}\n",
    "my_dict['Prophage_Bacteria'] = [p,r,f1]\n",
    "print(round(p,9),round(r,9),round(f1,9))"
   ]
  },
  {
   "cell_type": "code",
   "execution_count": null,
   "metadata": {},
   "outputs": [],
   "source": [
    "\n",
    "\n",
    "\n"
   ]
  },
  {
   "cell_type": "code",
   "execution_count": null,
   "metadata": {},
   "outputs": [],
   "source": []
  },
  {
   "cell_type": "code",
   "execution_count": null,
   "metadata": {},
   "outputs": [],
   "source": []
  },
  {
   "cell_type": "code",
   "execution_count": null,
   "metadata": {},
   "outputs": [],
   "source": []
  },
  {
   "cell_type": "code",
   "execution_count": null,
   "metadata": {},
   "outputs": [],
   "source": []
  },
  {
   "cell_type": "code",
   "execution_count": null,
   "metadata": {},
   "outputs": [],
   "source": []
  },
  {
   "cell_type": "code",
   "execution_count": null,
   "metadata": {},
   "outputs": [],
   "source": []
  },
  {
   "cell_type": "code",
   "execution_count": null,
   "metadata": {},
   "outputs": [],
   "source": []
  },
  {
   "cell_type": "code",
   "execution_count": 23,
   "metadata": {},
   "outputs": [
    {
     "name": "stdout",
     "output_type": "stream",
     "text": [
      "Scores if prophages are considered bacteria\n",
      "Precision: 0.833333333\n",
      "Recall: 0.576923077\n",
      "F1 Score: 0.681818182\n",
      "(0.833333333, 0.576923077, 0.681818182)\n"
     ]
    }
   ],
   "source": [
    "df2 = pd.read_csv(\"../../Contig_Abundance_By_Class_Simulation.csv\")\n",
    "simulation = input_file.split(\"_\")[-2]\n",
    "complexity = input_file.split(\"_\")[-1].split(\".\")[0]\n",
    "\n",
    "df2['Simulation'] = [x.lower() for x in df2['Simulation']]\n",
    "df2['Complexity'] = [x.lower() for x in df2['Complexity']]\n",
    "\n",
    "df1 = df2[(df2.Simulation == simulation) & (df2.Complexity == complexity)]\n",
    "Phage_Count = int(df1['Phage'])\n",
    "Prophage_Count = int(df1['Prophage'])\n",
    "\n",
    "\n",
    "df = df[df['Category']!=3]\n",
    "df = df[df['True_Label']!=\"Prophage\"]\n",
    "\n",
    "x = df.groupby(\"True_Label\").count()\n",
    "x = x[['Contig_id']]\n",
    "Phage_Predicted = int(x.loc[\"Phage\",])\n",
    "False_Negative_Phage = Phage_Count - Phage_Predicted\n",
    "\n",
    "\n",
    "y_true = [1 if x == \"Phage\" else 0 for x in df['True_Label']]\n",
    "y_pred = [1]*len(df)\n",
    "\n",
    "listofzeros = [0]*False_Negative_Phage\n",
    "listofones = [1]*False_Negative_Phage\n",
    "\n",
    "y_pred = y_pred + listofzeros\n",
    "y_true = y_true + listofones\n",
    "\n",
    "\n",
    "p = precision_score(y_true, y_pred)\n",
    "r = recall_score(y_true, y_pred)\n",
    "f1 = f1_score(y_true, y_pred)\n",
    "print(\"Scores if prophages are considered bacteria\")\n",
    "print(\"Precision: \" + str(round(p,9)))\n",
    "print(\"Recall: \" + str(round(r,9)))\n",
    "print(\"F1 Score: \" + str(round(f1,9)))\n",
    "my_dict = {}\n",
    "my_dict['Prophage_Bacteria'] = [p,r,f1]\n",
    "print(round(p,9),round(r,9),round(f1,9))"
   ]
  },
  {
   "cell_type": "code",
   "execution_count": null,
   "metadata": {},
   "outputs": [],
   "source": []
  },
  {
   "cell_type": "code",
   "execution_count": null,
   "metadata": {},
   "outputs": [],
   "source": []
  },
  {
   "cell_type": "code",
   "execution_count": null,
   "metadata": {},
   "outputs": [],
   "source": []
  },
  {
   "cell_type": "code",
   "execution_count": null,
   "metadata": {},
   "outputs": [],
   "source": []
  },
  {
   "cell_type": "code",
   "execution_count": null,
   "metadata": {},
   "outputs": [],
   "source": []
  },
  {
   "cell_type": "code",
   "execution_count": null,
   "metadata": {},
   "outputs": [],
   "source": []
  },
  {
   "cell_type": "code",
   "execution_count": 35,
   "metadata": {},
   "outputs": [],
   "source": [
    "q = df_confidence.groupby(\"True_Label\").count()\n",
    "df2 = pd.read_csv(\"../../Contig_Abundance_By_Class_Simulation.csv\")\n",
    "t = os.path.basename(input_file)\n",
    "\n",
    "simulation = t.split(\"_\")[-2]\n",
    "complexity = t.split(\"_\")[-1].split(\".\")[0]\n",
    "\n",
    "df1 = df2[(df2.Simulation.str.lower() == simulation) & (df2.Complexity.str.lower() == complexity)]\n",
    "Phage_Count = int(df1['Phage'])\n",
    "Prophage_Count = int(df1['Prophage'])\n",
    "\n",
    "\n",
    "\n",
    "\n"
   ]
  },
  {
   "cell_type": "code",
   "execution_count": 38,
   "metadata": {},
   "outputs": [],
   "source": [
    "def table_to_output(groupby_table):\n",
    "    temp = groupby_table\n",
    "    Phage_Predicted = temp.loc[\"Phage\"][1]\n",
    "    try:\n",
    "        Prophage_Predicted = temp.loc[\"Prophage\"][1]\n",
    "    except:\n",
    "        Prophage_Predicted = 0\n",
    "    False_Negative_Phage = Phage_Count - Phage_Predicted\n",
    "    False_Negative_Prophage = Prophage_Count - Prophage_Predicted\n",
    "    \n",
    "    return(False_Negative_Phage, False_Negative_Prophage)"
   ]
  },
  {
   "cell_type": "code",
   "execution_count": 39,
   "metadata": {
    "code_folding": []
   },
   "outputs": [],
   "source": [
    "def Score(FNP, FNPro, data, Prophage=True):\n",
    "    if Prophage==True:\n",
    "        y_true = [1 if x == \"Phage\" else 0 for x in data['True_Label']]\n",
    "        y_pred = [1]*len(data)\n",
    "\n",
    "        listofzeros = [0]*FNP\n",
    "        listofones = [1]*FNP\n",
    "\n",
    "        y_pred = y_pred + listofzeros\n",
    "        y_true = y_true + listofones\n",
    "\n",
    "    else:\n",
    "        data['True_Label'] = data['True_Label'].replace(regex='Prophage', value=\"Phage\")\n",
    "        y_true = [1 if x == \"Phage\" else 0 for x in data['True_Label']]\n",
    "        y_pred = [1]*len(data)\n",
    "        listofzeros = [0]*FNP\n",
    "        listofones = [1]*FNP\n",
    "\n",
    "        y_pred = y_pred + listofzeros\n",
    "        y_true = y_true + listofones\n",
    "\n",
    "        listofzeros2 = [0]*FNPro\n",
    "        listofones2 = [1]*FNPro\n",
    "\n",
    "        y_pred = y_pred + listofzeros2\n",
    "        y_true = y_true + listofones2\n",
    "\n",
    "        \n",
    "    p = precision_score(y_true, y_pred)\n",
    "    r = recall_score(y_true, y_pred)\n",
    "    f1 = f1_score(y_true, y_pred)\n",
    "    \n",
    "    return(p, r, f1)\n"
   ]
  },
  {
   "cell_type": "code",
   "execution_count": 43,
   "metadata": {},
   "outputs": [],
   "source": [
    "w = pd.DataFrame(my_dict.items(), columns=[\"Prophage Category\",2])"
   ]
  },
  {
   "cell_type": "code",
   "execution_count": 41,
   "metadata": {},
   "outputs": [
    {
     "name": "stdout",
     "output_type": "stream",
     "text": [
      "Scores if prophages are considered Bacteria\n",
      "Precision: 0.7588652482269503\n",
      "Recall: 0.35562941420855837\n",
      "F1 Score: 0.48429985855728425\n",
      "Scores if prophages are considered Viruses\n",
      "Precision: 0.7588652482269503\n",
      "Recall: 0.024561705546469255\n",
      "F1 Score: 0.047583312487840125\n"
     ]
    },
    {
     "name": "stderr",
     "output_type": "stream",
     "text": [
      "/Users/stronglab2/anaconda2/lib/python2.7/site-packages/ipykernel_launcher.py:13: SettingWithCopyWarning: \n",
      "A value is trying to be set on a copy of a slice from a DataFrame.\n",
      "Try using .loc[row_indexer,col_indexer] = value instead\n",
      "\n",
      "See the caveats in the documentation: http://pandas.pydata.org/pandas-docs/stable/indexing.html#indexing-view-versus-copy\n",
      "  del sys.path[0]\n"
     ]
    },
    {
     "data": {
      "text/html": [
       "<div>\n",
       "<style scoped>\n",
       "    .dataframe tbody tr th:only-of-type {\n",
       "        vertical-align: middle;\n",
       "    }\n",
       "\n",
       "    .dataframe tbody tr th {\n",
       "        vertical-align: top;\n",
       "    }\n",
       "\n",
       "    .dataframe thead th {\n",
       "        text-align: right;\n",
       "    }\n",
       "</style>\n",
       "<table border=\"1\" class=\"dataframe\">\n",
       "  <thead>\n",
       "    <tr style=\"text-align: right;\">\n",
       "      <th></th>\n",
       "      <th>Precision</th>\n",
       "      <th>Recall</th>\n",
       "      <th>F1 Score</th>\n",
       "      <th>Simulation</th>\n",
       "      <th>Complexity</th>\n",
       "      <th>Tool</th>\n",
       "      <th>Parameter</th>\n",
       "    </tr>\n",
       "    <tr>\n",
       "      <th>Prophage Category</th>\n",
       "      <th></th>\n",
       "      <th></th>\n",
       "      <th></th>\n",
       "      <th></th>\n",
       "      <th></th>\n",
       "      <th></th>\n",
       "      <th></th>\n",
       "    </tr>\n",
       "  </thead>\n",
       "  <tbody>\n",
       "    <tr>\n",
       "      <th>Prophage_Viruses</th>\n",
       "      <td>0.758865</td>\n",
       "      <td>0.024562</td>\n",
       "      <td>0.047583</td>\n",
       "      <td>exponential</td>\n",
       "      <td>high</td>\n",
       "      <td>VirSorter</td>\n",
       "      <td>NA</td>\n",
       "    </tr>\n",
       "    <tr>\n",
       "      <th>Prophage_Bacteria</th>\n",
       "      <td>0.758865</td>\n",
       "      <td>0.355629</td>\n",
       "      <td>0.484300</td>\n",
       "      <td>exponential</td>\n",
       "      <td>high</td>\n",
       "      <td>VirSorter</td>\n",
       "      <td>NA</td>\n",
       "    </tr>\n",
       "  </tbody>\n",
       "</table>\n",
       "</div>"
      ],
      "text/plain": [
       "                   Precision    Recall  F1 Score   Simulation Complexity  \\\n",
       "Prophage Category                                                          \n",
       "Prophage_Viruses    0.758865  0.024562  0.047583  exponential       high   \n",
       "Prophage_Bacteria   0.758865  0.355629  0.484300  exponential       high   \n",
       "\n",
       "                        Tool Parameter  \n",
       "Prophage Category                       \n",
       "Prophage_Viruses   VirSorter        NA  \n",
       "Prophage_Bacteria  VirSorter        NA  "
      ]
     },
     "execution_count": 41,
     "metadata": {},
     "output_type": "execute_result"
    }
   ],
   "source": [
    "FNP, FNPro = table_to_output(q)\n",
    "p, r, f1 = Score(FNP, FNPro, df_confidence)\n",
    "\n",
    "my_dict = {}\n",
    "print(\"Scores if prophages are considered Bacteria\")\n",
    "print(\"Precision: \" + str(p))\n",
    "print(\"Recall: \" + str(r))\n",
    "print(\"F1 Score: \" + str(f1))\n",
    "my_dict['Prophage_Bacteria'] = [p,r,f1]\n",
    "\n",
    "p, r, f1 = Score(FNP, FNPro, df_confidence, Prophage=False)\n",
    "print(\"Scores if prophages are considered Viruses\")\n",
    "print(\"Precision: \" + str(p))\n",
    "print(\"Recall: \" + str(r))\n",
    "print(\"F1 Score: \" + str(f1))\n",
    "my_dict['Prophage_Viruses'] = [p,r,f1]\n",
    "\n",
    "w = pd.DataFrame(my_dict.items(), columns=[\"Prophage Category\",2])\n",
    "w = w.set_index(\"Prophage Category\")\n",
    "w['Precision'] = [x[0] for x in w[2]]\n",
    "w['Recall'] = [x[1] for x in w[2]]\n",
    "w['F1 Score'] = [x[2] for x in w[2]]\n",
    "w = w.drop(2, axis=1)\n",
    "\n",
    "w['Simulation'] = simulation\n",
    "\n",
    "w['Complexity'] = complexity\n",
    "\n",
    "w['Tool'] = 'VirSorter'\n",
    "\n",
    "w['Parameter'] = \"NA\"\n",
    "w\n",
    "#w.to_csv()"
   ]
  },
  {
   "cell_type": "code",
   "execution_count": null,
   "metadata": {},
   "outputs": [],
   "source": []
  },
  {
   "cell_type": "code",
   "execution_count": null,
   "metadata": {},
   "outputs": [],
   "source": []
  },
  {
   "cell_type": "code",
   "execution_count": 44,
   "metadata": {},
   "outputs": [],
   "source": [
    "import glob\n",
    "\n",
    "interesting_files = glob.glob(\"../VirSorter_Data/*.csv\") \n",
    "\n",
    "header_saved = False\n",
    "with open('../VirSorter_Results.csv','wb') as fout:\n",
    "    for filename in interesting_files:\n",
    "        with open(filename) as fin:\n",
    "            header = next(fin)\n",
    "            if not header_saved:\n",
    "                fout.write(header)\n",
    "                header_saved = True\n",
    "            for line in fin:\n",
    "                fout.write(line)"
   ]
  },
  {
   "cell_type": "code",
   "execution_count": null,
   "metadata": {},
   "outputs": [],
   "source": []
  }
 ],
 "metadata": {
  "kernelspec": {
   "display_name": "Python 3",
   "language": "python",
   "name": "python3"
  },
  "language_info": {
   "codemirror_mode": {
    "name": "ipython",
    "version": 2
   },
   "file_extension": ".py",
   "mimetype": "text/x-python",
   "name": "python",
   "nbconvert_exporter": "python",
   "pygments_lexer": "ipython2",
   "version": "2.7.15"
  },
  "toc": {
   "base_numbering": 1,
   "nav_menu": {},
   "number_sections": true,
   "sideBar": true,
   "skip_h1_title": false,
   "title_cell": "Table of Contents",
   "title_sidebar": "Contents",
   "toc_cell": false,
   "toc_position": {},
   "toc_section_display": true,
   "toc_window_display": false
  }
 },
 "nbformat": 4,
 "nbformat_minor": 2
}
