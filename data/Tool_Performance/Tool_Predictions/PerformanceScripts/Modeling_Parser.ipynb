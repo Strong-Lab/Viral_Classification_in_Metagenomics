{
 "cells": [
  {
   "cell_type": "code",
   "execution_count": 6,
   "metadata": {},
   "outputs": [],
   "source": [
    "import glob as glob\n",
    "import pandas as pd\n",
    "from sklearn.metrics import precision_score, recall_score, f1_score"
   ]
  },
  {
   "cell_type": "code",
   "execution_count": 34,
   "metadata": {},
   "outputs": [
    {
     "name": "stdout",
     "output_type": "stream",
     "text": [
      "../../Modeling_Outputs/NanoSim_Assembilies/temp_5k_Predictions.csv\n",
      "../../Modeling_Outputs/NanoSim_Assembilies/temp_1k_Predictions.csv\n",
      "../../Modeling_Outputs/NanoSim_Assembilies/temp_10k_Predictions.csv\n",
      "../../Modeling_Outputs/NanoSim_Assembilies/temp_500_Predictions.csv\n",
      "../../Modeling_Outputs/NanoSim_Assembilies/temp_3k_Predictions.csv\n"
     ]
    }
   ],
   "source": [
    "input_directory = \"../../Modeling_Outputs/NanoSim_Assembilies/*\"\n",
    "\n",
    "df = pd.DataFrame()\n",
    "\n",
    "for item in glob.glob(input_directory):\n",
    "    print(item)\n",
    "    df2 = pd.read_csv(item)\n",
    "    df = pd.concat([df,df2])\n",
    "y_true = [1 if x == \"Phage\" else 0 for x in df['True_Labels']]\n",
    "y_pred = [1 if x == \"Phage\" else 0 for x in df['Predicted_Values']]\n",
    "p = precision_score(y_true, y_pred)\n",
    "r = recall_score(y_true, y_pred)\n",
    "f1 = f1_score(y_true, y_pred)\n",
    "print(\"Scores if prophages are considered bacteria\")\n",
    "print(\"Precision: \" + str(round(p,9)))\n",
    "print(\"Recall: \" + str(round(r,9)))\n",
    "print(\"F1 Score: \" + str(round(f1,9)))\n",
    "my_dict = {}\n",
    "my_dict['Prophage_Bacteria'] = [p,r,f1]\n",
    "print(round(p,9),round(r,9),round(f1,9))"
   ]
  },
  {
   "cell_type": "code",
   "execution_count": null,
   "metadata": {},
   "outputs": [],
   "source": []
  },
  {
   "cell_type": "code",
   "execution_count": null,
   "metadata": {},
   "outputs": [],
   "source": []
  },
  {
   "cell_type": "code",
   "execution_count": null,
   "metadata": {},
   "outputs": [],
   "source": []
  },
  {
   "cell_type": "code",
   "execution_count": 38,
   "metadata": {},
   "outputs": [
    {
     "name": "stdout",
     "output_type": "stream",
     "text": [
      "Scores if prophages are considered bacteria\n",
      "Precision: 0.03592088076133607\n",
      "Recall: 0.915576694411415\n",
      "F1 Score: 0.06912959554697672\n",
      "Scores if prophages are considered Viruses\n",
      "Precision: 0.3054674379548423\n",
      "Recall: 0.3872952031702845\n",
      "F1 Score: 0.3415486529483869\n"
     ]
    }
   ],
   "source": [
    "input_directory = \"../../Modeling_Outputs/Zero_High/*\"\n",
    "df = pd.DataFrame()\n",
    "\n",
    "for item in glob.glob(input_directory):\n",
    "    #print(item)\n",
    "    df2 = pd.read_csv(item)\n",
    "    df = pd.concat([df,df2])\n",
    "    \n",
    "my_dict = {}\n",
    "\n",
    "\n",
    "y_true = [1 if x == \"Phage\" else 0 for x in df['True_Labels']]\n",
    "y_pred = [1 if x == \"Phage\" else 0 for x in df['Predicted_Values']]\n",
    "\n",
    "p = precision_score(y_true, y_pred)\n",
    "r = recall_score(y_true, y_pred)\n",
    "f1 = f1_score(y_true, y_pred)\n",
    "print(\"Scores if prophages are considered bacteria\")\n",
    "print(\"Precision: \" + str(p))\n",
    "print(\"Recall: \" + str(r))\n",
    "print(\"F1 Score: \" + str(f1))\n",
    "my_dict['Prophage_Bacteria'] = [p,r,f1]\n",
    "\n",
    "\n",
    "\n",
    "df['True_Labels'] = df['True_Labels'].replace(regex='Prophage', value=\"Phage\")\n",
    "y_true = [1 if x == \"Phage\" else 0 for x in df['True_Labels']]\n",
    "y_pred = [1 if x == \"Phage\" else 0 for x in df['Predicted_Values']]\n",
    "\n",
    "p = precision_score(y_true, y_pred)\n",
    "r = recall_score(y_true, y_pred)\n",
    "f1 = f1_score(y_true, y_pred)\n",
    "print(\"Scores if prophages are considered Viruses\")\n",
    "print(\"Precision: \" + str(p))\n",
    "print(\"Recall: \" + str(r))\n",
    "print(\"F1 Score: \" + str(f1))\n",
    "my_dict['Prophage_Viruses'] = [p,r,f1]\n",
    "\n",
    "\n",
    "w = pd.DataFrame(my_dict.items(), columns=[\"Prophage Category\",2])\n",
    "w = w.set_index(\"Prophage Category\")\n",
    "w['Precision'] = [x[0] for x in w[2]]\n",
    "w['Recall'] = [x[1] for x in w[2]]\n",
    "w['F1 Score'] = [x[2] for x in w[2]]\n",
    "\n",
    "w['Simulation'] = \"zero\"\n",
    "w['Complexity'] = \"high\"\n",
    "w['Tool'] = \"Modeling\"\n",
    "w['Parameter'] = \"NA\"\n",
    "\n",
    "w = w.drop(2, axis=1)\n",
    "w.to_csv(\"../../Modeling_Outputs/Modeling_Scores.csv\", header=None, mode='a')"
   ]
  },
  {
   "cell_type": "code",
   "execution_count": null,
   "metadata": {},
   "outputs": [],
   "source": []
  },
  {
   "cell_type": "code",
   "execution_count": null,
   "metadata": {},
   "outputs": [],
   "source": []
  },
  {
   "cell_type": "code",
   "execution_count": null,
   "metadata": {},
   "outputs": [],
   "source": []
  },
  {
   "cell_type": "code",
   "execution_count": null,
   "metadata": {},
   "outputs": [],
   "source": []
  },
  {
   "cell_type": "code",
   "execution_count": null,
   "metadata": {},
   "outputs": [],
   "source": []
  },
  {
   "cell_type": "code",
   "execution_count": 30,
   "metadata": {},
   "outputs": [
    {
     "name": "stdout",
     "output_type": "stream",
     "text": [
      "../../Modeling_Outputs/Nano_Reads/temp_5k_Predictions.csv\n",
      "Scores if prophages are considered bacteria\n",
      "Precision: 0.058479532\n",
      "Recall: 0.186666667\n",
      "F1 Score: 0.089058524\n",
      "(0.058479532, 0.186666667, 0.089058524)\n",
      "../../Modeling_Outputs/Nano_Reads/temp_1k_Predictions.csv\n",
      "Scores if prophages are considered bacteria\n",
      "Precision: 0.364498645\n",
      "Recall: 0.810240964\n",
      "F1 Score: 0.502803738\n",
      "(0.364498645, 0.810240964, 0.502803738)\n",
      "../../Modeling_Outputs/Nano_Reads/temp_10k_Predictions.csv\n",
      "Scores if prophages are considered bacteria\n",
      "Precision: 0.784505788\n",
      "Recall: 0.918665276\n",
      "F1 Score: 0.846301633\n",
      "(0.784505788, 0.918665276, 0.846301633)\n",
      "../../Modeling_Outputs/Nano_Reads/temp_500_Predictions.csv\n",
      "Scores if prophages are considered bacteria\n",
      "Precision: 0.370535714\n",
      "Recall: 0.902173913\n",
      "F1 Score: 0.525316456\n",
      "(0.370535714, 0.902173913, 0.525316456)\n",
      "../../Modeling_Outputs/Nano_Reads/temp_3k_Predictions.csv\n",
      "Scores if prophages are considered bacteria\n",
      "Precision: 0.134920635\n",
      "Recall: 0.115646259\n",
      "F1 Score: 0.124542125\n",
      "(0.134920635, 0.115646259, 0.124542125)\n"
     ]
    }
   ],
   "source": [
    "input_directory = \"../../Modeling_Outputs/Nano_Reads/*\"\n",
    "\n",
    "df = pd.DataFrame()\n",
    "\n",
    "for item in glob.glob(input_directory):\n",
    "    print(item)\n",
    "    df = pd.read_csv(item)\n",
    "    y_true = [1 if x == \"V\" else 0 for x in df['True_Labels']]\n",
    "    y_pred = [1 if x == \"Phage\" else 0 for x in df['Predicted_Values']]\n",
    "    p = precision_score(y_true, y_pred)\n",
    "    r = recall_score(y_true, y_pred)\n",
    "    f1 = f1_score(y_true, y_pred)\n",
    "    print(\"Scores if prophages are considered bacteria\")\n",
    "    print(\"Precision: \" + str(round(p,9)))\n",
    "    print(\"Recall: \" + str(round(r,9)))\n",
    "    print(\"F1 Score: \" + str(round(f1,9)))\n",
    "    my_dict = {}\n",
    "    my_dict['Prophage_Bacteria'] = [p,r,f1]\n",
    "    print(round(p,9),round(r,9),round(f1,9))\n"
   ]
  },
  {
   "cell_type": "code",
   "execution_count": 4,
   "metadata": {},
   "outputs": [],
   "source": [
    "import pandas as pd\n",
    "import glob"
   ]
  },
  {
   "cell_type": "code",
   "execution_count": 7,
   "metadata": {},
   "outputs": [
    {
     "name": "stdout",
     "output_type": "stream",
     "text": [
      "../../Modeling_Outputs/NanoSim_Assembilies/temp_5k_Predictions.csv\n",
      "../../Modeling_Outputs/NanoSim_Assembilies/temp_1k_Predictions.csv\n",
      "../../Modeling_Outputs/NanoSim_Assembilies/temp_10k_Predictions.csv\n",
      "../../Modeling_Outputs/NanoSim_Assembilies/temp_500_Predictions.csv\n",
      "../../Modeling_Outputs/NanoSim_Assembilies/temp_3k_Predictions.csv\n",
      "Scores if prophages are considered bacteria\n",
      "Precision: 0.104377104\n",
      "Recall: 0.911764706\n",
      "F1 Score: 0.187311178\n",
      "0.104377104 0.911764706 0.187311178\n"
     ]
    }
   ],
   "source": [
    "input_directory = \"../../Modeling_Outputs/NanoSim_Assembilies/*\"\n",
    "\n",
    "df = pd.DataFrame()\n",
    "\n",
    "for item in glob.glob(input_directory):\n",
    "    print(item)\n",
    "    df2 = pd.read_csv(item)\n",
    "    df = pd.concat([df,df2])\n",
    "    \n",
    "df = df[df['True_Labels']!=\"Prophage\"]\n",
    "y_true = [1 if x == \"Phage\" else 0 for x in df['True_Labels']]\n",
    "y_pred = [1 if x == \"Phage\" else 0 for x in df['Predicted_Values']]\n",
    "p = precision_score(y_true, y_pred)\n",
    "r = recall_score(y_true, y_pred)\n",
    "f1 = f1_score(y_true, y_pred)\n",
    "print(\"Scores if prophages are considered bacteria\")\n",
    "print(\"Precision: \" + str(round(p,9)))\n",
    "print(\"Recall: \" + str(round(r,9)))\n",
    "print(\"F1 Score: \" + str(round(f1,9)))\n",
    "my_dict = {}\n",
    "my_dict['Prophage_Bacteria'] = [p,r,f1]\n",
    "print(round(p,9),round(r,9),round(f1,9))"
   ]
  },
  {
   "cell_type": "code",
   "execution_count": 9,
   "metadata": {},
   "outputs": [
    {
     "data": {
      "text/plain": [
       "2586"
      ]
     },
     "execution_count": 9,
     "metadata": {},
     "output_type": "execute_result"
    }
   ],
   "source": [
    "len(df)"
   ]
  },
  {
   "cell_type": "code",
   "execution_count": 22,
   "metadata": {},
   "outputs": [
    {
     "name": "stdout",
     "output_type": "stream",
     "text": [
      "Scores if prophages are considered bacteria\n",
      "Precision: 0.4\n",
      "Recall: 1.0\n",
      "F1 Score: 0.5714285714285715\n"
     ]
    }
   ],
   "source": [
    "input_directory = \"../../Modeling_Outputs/Exponential_Low/*\"\n",
    "df = pd.DataFrame()\n",
    "\n",
    "for item in glob.glob(input_directory):\n",
    "    #print(item)\n",
    "    df2 = pd.read_csv(item)\n",
    "    df = pd.concat([df,df2])\n",
    "    \n",
    "my_dict = {}\n",
    "\n",
    "df = df[df['True_Labels']!=\"Prophage\"]\n",
    "y_true = [1 if x == \"Phage\" else 0 for x in df['True_Labels']]\n",
    "y_pred = [1 if x == \"Phage\" else 0 for x in df['Predicted_Values']]\n",
    "\n",
    "p = precision_score(y_true, y_pred)\n",
    "r = recall_score(y_true, y_pred)\n",
    "f1 = f1_score(y_true, y_pred)\n",
    "print(\"Scores if prophages are considered bacteria\")\n",
    "print(\"Precision: \" + str(p))\n",
    "print(\"Recall: \" + str(r))\n",
    "print(\"F1 Score: \" + str(f1))\n",
    "my_dict['Prophage_Removed'] = [p,r,f1]\n",
    "\n",
    "w = pd.DataFrame(my_dict.items(), columns=[\"Prophage Category\",2])\n",
    "w = w.set_index(\"Prophage Category\")\n",
    "w['Precision'] = [x[0] for x in w[2]]\n",
    "w['Recall'] = [x[1] for x in w[2]]\n",
    "w['F1 Score'] = [x[2] for x in w[2]]\n",
    "\n",
    "w['Simulation'] = \"exponential\"\n",
    "w['Complexity'] = \"low\"\n",
    "w['Tool'] = \"Modeling\"\n",
    "w['Parameter'] = \"NA\"\n",
    "\n",
    "w = w.drop(2, axis=1)\n",
    "w.to_csv(\"../../Modeling_Outputs/Modeling_Prophages_Removed.csv\")#, header=None, mode='a')"
   ]
  },
  {
   "cell_type": "code",
   "execution_count": null,
   "metadata": {},
   "outputs": [],
   "source": []
  }
 ],
 "metadata": {
  "kernelspec": {
   "display_name": "Python 3",
   "language": "python",
   "name": "python3"
  },
  "language_info": {
   "codemirror_mode": {
    "name": "ipython",
    "version": 2
   },
   "file_extension": ".py",
   "mimetype": "text/x-python",
   "name": "python",
   "nbconvert_exporter": "python",
   "pygments_lexer": "ipython2",
   "version": "2.7.15"
  },
  "toc": {
   "base_numbering": 1,
   "nav_menu": {},
   "number_sections": true,
   "sideBar": true,
   "skip_h1_title": false,
   "title_cell": "Table of Contents",
   "title_sidebar": "Contents",
   "toc_cell": false,
   "toc_position": {},
   "toc_section_display": true,
   "toc_window_display": false
  }
 },
 "nbformat": 4,
 "nbformat_minor": 2
}
