{
 "cells": [
  {
   "cell_type": "markdown",
   "metadata": {
    "heading_collapsed": true
   },
   "source": [
    "### HMMSCAN Parser"
   ]
  },
  {
   "cell_type": "code",
   "execution_count": 10,
   "metadata": {
    "hidden": true
   },
   "outputs": [
    {
     "data": {
      "text/html": [
       "<div>\n",
       "<style scoped>\n",
       "    .dataframe tbody tr th:only-of-type {\n",
       "        vertical-align: middle;\n",
       "    }\n",
       "\n",
       "    .dataframe tbody tr th {\n",
       "        vertical-align: top;\n",
       "    }\n",
       "\n",
       "    .dataframe thead th {\n",
       "        text-align: right;\n",
       "    }\n",
       "</style>\n",
       "<table border=\"1\" class=\"dataframe\">\n",
       "  <thead>\n",
       "    <tr style=\"text-align: right;\">\n",
       "      <th></th>\n",
       "      <th>query_id</th>\n",
       "      <th>bitscore</th>\n",
       "      <th>evalue</th>\n",
       "      <th>id</th>\n",
       "    </tr>\n",
       "  </thead>\n",
       "  <tbody>\n",
       "    <tr>\n",
       "      <th>0</th>\n",
       "      <td>Bacteria_NODE_1_length_628658_cov_8.291329_24</td>\n",
       "      <td>29.3</td>\n",
       "      <td>7.100000e-07</td>\n",
       "      <td>3300000568@Draft_10015026@Draft_1001502652</td>\n",
       "    </tr>\n",
       "    <tr>\n",
       "      <th>1</th>\n",
       "      <td>Bacteria_NODE_1_length_628658_cov_8.291329_53</td>\n",
       "      <td>31.7</td>\n",
       "      <td>1.600000e-07</td>\n",
       "      <td>7000000546@SRS019910_WUGC_scaffold_3948@SRS019...</td>\n",
       "    </tr>\n",
       "    <tr>\n",
       "      <th>2</th>\n",
       "      <td>Bacteria_NODE_1_length_628658_cov_8.291329_54</td>\n",
       "      <td>51.0</td>\n",
       "      <td>1.500000e-13</td>\n",
       "      <td>ADO97609@GU071095</td>\n",
       "    </tr>\n",
       "    <tr>\n",
       "      <th>3</th>\n",
       "      <td>Bacteria_NODE_1_length_628658_cov_8.291329_93</td>\n",
       "      <td>44.6</td>\n",
       "      <td>1.600000e-11</td>\n",
       "      <td>3300000101@DelMOSum2010_c10000158@DelMOSum2010...</td>\n",
       "    </tr>\n",
       "    <tr>\n",
       "      <th>4</th>\n",
       "      <td>Bacteria_NODE_1_length_628658_cov_8.291329_120</td>\n",
       "      <td>33.0</td>\n",
       "      <td>7.000000e-08</td>\n",
       "      <td>3300001592@Draft_10000123@Draft_1000012318</td>\n",
       "    </tr>\n",
       "  </tbody>\n",
       "</table>\n",
       "</div>"
      ],
      "text/plain": [
       "                                         query_id  bitscore        evalue  \\\n",
       "0   Bacteria_NODE_1_length_628658_cov_8.291329_24      29.3  7.100000e-07   \n",
       "1   Bacteria_NODE_1_length_628658_cov_8.291329_53      31.7  1.600000e-07   \n",
       "2   Bacteria_NODE_1_length_628658_cov_8.291329_54      51.0  1.500000e-13   \n",
       "3   Bacteria_NODE_1_length_628658_cov_8.291329_93      44.6  1.600000e-11   \n",
       "4  Bacteria_NODE_1_length_628658_cov_8.291329_120      33.0  7.000000e-08   \n",
       "\n",
       "                                                  id  \n",
       "0         3300000568@Draft_10015026@Draft_1001502652  \n",
       "1  7000000546@SRS019910_WUGC_scaffold_3948@SRS019...  \n",
       "2                                  ADO97609@GU071095  \n",
       "3  3300000101@DelMOSum2010_c10000158@DelMOSum2010...  \n",
       "4         3300001592@Draft_10000123@Draft_1000012318  "
      ]
     },
     "execution_count": 10,
     "metadata": {},
     "output_type": "execute_result"
    }
   ],
   "source": [
    "from collections import defaultdict\n",
    "import pandas as pd\n",
    "from Bio import SearchIO\n",
    "\n",
    "filename = 'Test2.txt'\n",
    "\n",
    "attribs = ['query_id', 'bitscore', 'evalue', 'id']\n",
    "\n",
    "hits = defaultdict(list)\n",
    "\n",
    "with open (filename) as handle:\n",
    "    for record in SearchIO.parse(handle, 'hmmer3-tab'):\n",
    "      #print(queryresult.id)\n",
    "      #print(queryresult.accession)\n",
    "      #print(queryresult.description)\n",
    "        for hit in record.hits:\n",
    "            for attrib in attribs:\n",
    "                hits[attrib].append(getattr(hit, attrib))\n",
    "\n",
    "df = pd.DataFrame.from_dict(hits)\n",
    "df.head()"
   ]
  },
  {
   "cell_type": "markdown",
   "metadata": {},
   "source": [
    "### Diamond Blast Parser"
   ]
  },
  {
   "cell_type": "code",
   "execution_count": 1,
   "metadata": {},
   "outputs": [],
   "source": [
    "import pandas as pd\n",
    "from sklearn.metrics import precision_score, recall_score, f1_score\n",
    "input_file = \"../Earth_Virome/Earth_Virome_Data/Uniform_Low_Complexity.txt\"\n",
    "#input_file = \"../../Nano_Reads_Tools/Nano_Combined_Assemblies_Diamond.txt\"\n",
    "df = pd.read_csv(input_file, header=None, sep=\"\\t\")\n",
    "\n",
    "\n",
    "df2 = pd.read_csv(\"../../Contig_Abundance_By_Class_Simulation.csv\")\n",
    "simulation = input_file.split(\"_\")[-3].split(\"/\")[1]\n",
    "\n",
    "if simulation == 'Zero':\n",
    "    complexity = input_file.split(\"_\")[-2]\n",
    "else:\n",
    "    complexity = input_file.split(\"_\")[-2]\n",
    "\n",
    "\n",
    "df1 = df2[(df2.Simulation == simulation) & (df2.Complexity == complexity)]\n",
    "try:\n",
    "    Phage_Count = int(df1['Phage'])\n",
    "except:\n",
    "    Phage_Count = 0\n",
    "try:\n",
    "    Prophage_Count = int(df1['Prophage'])\n",
    "except:\n",
    "    Prophage_Count = 0\n",
    "    \n",
    " \n",
    "   \n",
    "#Phage_Count=2514\n",
    "#Phage_Count=34\n",
    "\n",
    "headers = ['qseqid', 'sseqid','pident','length', 'mismatch', 'gapopen', 'qstart',\n",
    "           'qend', 'sstart', 'send', 'evalue', 'bitscore']\n",
    "df.columns = headers\n",
    "\n",
    "## Filter above bitscore 100 and evalue > 1e-5\n",
    "df_filtered = df[(df['evalue']<=1e-5) & (df['bitscore']>=100)]\n",
    "df_filtered = df_filtered[df_filtered['pident']>=80]"
   ]
  },
  {
   "cell_type": "code",
   "execution_count": null,
   "metadata": {},
   "outputs": [],
   "source": []
  },
  {
   "cell_type": "code",
   "execution_count": null,
   "metadata": {},
   "outputs": [],
   "source": []
  },
  {
   "cell_type": "code",
   "execution_count": 3,
   "metadata": {
    "code_folding": []
   },
   "outputs": [],
   "source": [
    "def table_to_output(groupby_table):\n",
    "    temp = groupby_table.reset_index()\n",
    "    temp2 = temp[temp['True_Label']==\"Phage\"]\n",
    "    if len(temp2)==0:\n",
    "        False_Negative_Phage = Phage_Count\n",
    "    else:\n",
    "        Phage_Predicted = temp2.iloc[0][1]\n",
    "        False_Negative_Phage = Phage_Count - Phage_Predicted\n",
    "        \n",
    "    \n",
    "    temp3 = temp[temp['True_Label']==\"Prophage\"]\n",
    "    if len(temp3)==0:\n",
    "        False_Negative_Prophage = Prophage_Count\n",
    "    else:\n",
    "        Prophage_Predicted = temp3.iloc[0][1]\n",
    "        False_Negative_Prophage = Prophage_Count - Prophage_Predicted\n",
    " \n",
    "    return(False_Negative_Phage, False_Negative_Prophage)"
   ]
  },
  {
   "cell_type": "code",
   "execution_count": 20,
   "metadata": {
    "code_folding": []
   },
   "outputs": [],
   "source": [
    "## Score without prophages\n",
    "def Score(FNP, data):\n",
    "    \n",
    "    data2 = data[data[\"True_Label\"]!=\"Prophage\"]\n",
    "    y_true = [1 if x == \"Phage\" else 0 for x in data2['True_Label']]\n",
    "    \n",
    "    y_pred = [1]*len(data2)\n",
    "    \n",
    "    listofzeros = [0]*FNP\n",
    "    listofones = [1]*FNP\n",
    "\n",
    "    y_pred = y_pred + listofzeros\n",
    "    y_true = y_true + listofones\n",
    "    \n",
    "    p = precision_score(y_true, y_pred)\n",
    "    r = recall_score(y_true, y_pred)\n",
    "    f1 = f1_score(y_true, y_pred)\n",
    "    \n",
    "    return(p, r, f1)"
   ]
  },
  {
   "cell_type": "code",
   "execution_count": null,
   "metadata": {},
   "outputs": [],
   "source": [
    "df_filtered['Contig'] = [\"_\".join(x.split(\"_\")[:-1]) for x in df_filtered['qseqid']]\n",
    "x = df_filtered.groupby(\"Contig\").count()\n",
    "x = x[['evalue']]\n",
    "x = x.reset_index()\n",
    "x['True_Label'] = [y.split(\"_\")[0] for y in x['Contig']]\n",
    "y = x[[\"True_Label\", \"evalue\"]]\n",
    "y.columns = ['True_Label', 'Earth Virome Gene Hits']\n",
    "y = y.sort_values(by=\"Earth Virome Gene Hits\", ascending=False)"
   ]
  },
  {
   "cell_type": "code",
   "execution_count": 26,
   "metadata": {},
   "outputs": [
    {
     "name": "stdout",
     "output_type": "stream",
     "text": [
      "Precision: 0.1590909090909091\n",
      "Recall: 0.8076923076923077\n",
      "F1 Score: 0.26582278481012656\n"
     ]
    }
   ],
   "source": [
    "z = y[y['Earth Virome Gene Hits']>=1]\n",
    "e = z.groupby(\"True_Label\").count()\n",
    "FNP, FNPr = table_to_output(e)\n",
    "p, r, f1 = Score(FNP, FNPr, z)\n",
    "\n",
    "#print(\"Scores if prophages are considered Bacteria\")\n",
    "print(\"Precision: \" + str(p))\n",
    "print(\"Recall: \" + str(r))\n",
    "print(\"F1 Score: \" + str(f1))"
   ]
  },
  {
   "cell_type": "code",
   "execution_count": 239,
   "metadata": {},
   "outputs": [
    {
     "data": {
      "text/html": [
       "<div>\n",
       "<style scoped>\n",
       "    .dataframe tbody tr th:only-of-type {\n",
       "        vertical-align: middle;\n",
       "    }\n",
       "\n",
       "    .dataframe tbody tr th {\n",
       "        vertical-align: top;\n",
       "    }\n",
       "\n",
       "    .dataframe thead th {\n",
       "        text-align: right;\n",
       "    }\n",
       "</style>\n",
       "<table border=\"1\" class=\"dataframe\">\n",
       "  <thead>\n",
       "    <tr style=\"text-align: right;\">\n",
       "      <th></th>\n",
       "      <th>Earth Virome Gene Hits</th>\n",
       "    </tr>\n",
       "    <tr>\n",
       "      <th>True_Label</th>\n",
       "      <th></th>\n",
       "    </tr>\n",
       "  </thead>\n",
       "  <tbody>\n",
       "    <tr>\n",
       "      <th>Bacteria</th>\n",
       "      <td>82</td>\n",
       "    </tr>\n",
       "    <tr>\n",
       "      <th>Eukaroyte</th>\n",
       "      <td>7</td>\n",
       "    </tr>\n",
       "    <tr>\n",
       "      <th>Phage</th>\n",
       "      <td>4</td>\n",
       "    </tr>\n",
       "  </tbody>\n",
       "</table>\n",
       "</div>"
      ],
      "text/plain": [
       "            Earth Virome Gene Hits\n",
       "True_Label                        \n",
       "Bacteria                        82\n",
       "Eukaroyte                        7\n",
       "Phage                            4"
      ]
     },
     "execution_count": 239,
     "metadata": {},
     "output_type": "execute_result"
    }
   ],
   "source": [
    "e"
   ]
  },
  {
   "cell_type": "code",
   "execution_count": 27,
   "metadata": {},
   "outputs": [
    {
     "name": "stderr",
     "output_type": "stream",
     "text": [
      "/Users/stronglab2/anaconda2/lib/python2.7/site-packages/ipykernel_launcher.py:13: SettingWithCopyWarning: \n",
      "A value is trying to be set on a copy of a slice from a DataFrame.\n",
      "Try using .loc[row_indexer,col_indexer] = value instead\n",
      "\n",
      "See the caveats in the documentation: http://pandas.pydata.org/pandas-docs/stable/indexing.html#indexing-view-versus-copy\n",
      "  del sys.path[0]\n"
     ]
    },
    {
     "name": "stdout",
     "output_type": "stream",
     "text": [
      "F1 Score: 0.23880597014925373\n",
      "6\n"
     ]
    }
   ],
   "source": [
    "my_dict = {}\n",
    "max_f1 = 0\n",
    "for i in range(1,100):\n",
    "    z = y[y['Earth Virome Gene Hits']>=i]\n",
    "    e = z.groupby(\"True_Label\").count()\n",
    "    FNP, FNPr = table_to_output(e)\n",
    "    p, r, f1 = Score(FNP, FNPr, z, Prophage=False)\n",
    "    if f1 > max_f1:\n",
    "        max_f1 = f1\n",
    "        id_max = i\n",
    "\n",
    "\n",
    "#print(\"Scores if prophages are considered Bacteria\")\n",
    "#print(\"Precision: \" + str(p))\n",
    "#print(\"Recall: \" + str(r))\n",
    "print(\"F1 Score: \" + str(max_f1))\n",
    "print(id_max)"
   ]
  },
  {
   "cell_type": "code",
   "execution_count": null,
   "metadata": {},
   "outputs": [],
   "source": []
  },
  {
   "cell_type": "code",
   "execution_count": null,
   "metadata": {},
   "outputs": [],
   "source": []
  },
  {
   "cell_type": "code",
   "execution_count": null,
   "metadata": {},
   "outputs": [],
   "source": []
  },
  {
   "cell_type": "code",
   "execution_count": null,
   "metadata": {},
   "outputs": [],
   "source": []
  },
  {
   "cell_type": "code",
   "execution_count": 6,
   "metadata": {
    "code_folding": []
   },
   "outputs": [],
   "source": [
    "def Score(FNP, FNPro, data, Prophage=True):\n",
    "    if Prophage==True:\n",
    "        y_true = [1 if x == \"Phage\" else 0 for x in data['True_Label']]\n",
    "        y_pred = [1]*len(data)\n",
    "\n",
    "        listofzeros = [0]*FNP\n",
    "        listofones = [1]*FNP\n",
    "\n",
    "        y_pred = y_pred + listofzeros\n",
    "        y_true = y_true + listofones\n",
    "\n",
    "    else:\n",
    "        data['True_Label'] = data['True_Label'].replace(regex='Prophage', value=\"Phage\")\n",
    "        y_true = [1 if x == \"Phage\" else 0 for x in data['True_Label']]\n",
    "        y_pred = [1]*len(data)\n",
    "        listofzeros = [0]*FNP\n",
    "        listofones = [1]*FNP\n",
    "\n",
    "        y_pred = y_pred + listofzeros\n",
    "        y_true = y_true + listofones\n",
    "\n",
    "        listofzeros2 = [0]*FNPro\n",
    "        listofones2 = [1]*FNPro\n",
    "\n",
    "        y_pred = y_pred + listofzeros2\n",
    "        y_true = y_true + listofones2\n",
    "\n",
    "        \n",
    "    p = precision_score(y_true, y_pred)\n",
    "    r = recall_score(y_true, y_pred)\n",
    "    f1 = f1_score(y_true, y_pred)\n",
    "    \n",
    "    return(p, r, f1)"
   ]
  },
  {
   "cell_type": "code",
   "execution_count": 46,
   "metadata": {},
   "outputs": [],
   "source": [
    "import pandas as pd\n",
    "from sklearn.metrics import precision_score, recall_score, f1_score\n",
    "input_file = \"../Earth_Virome/Earth_Virome_Data/Zero_Inflated_Lognormal_Low_Complexity.txt\"\n",
    "#input_file = \"../../Nano_Reads_Tools/Nano_Combined_Assemblies_Diamond.txt\"\n",
    "df = pd.read_csv(input_file, header=None, sep=\"\\t\")\n",
    "\n",
    "\n",
    "df2 = pd.read_csv(\"../../Contig_Abundance_By_Class_Simulation.csv\")\n",
    "simulation = input_file.split(\"_\")[-5].split(\"/\")[1]\n",
    "\n",
    "if simulation == 'Zero':\n",
    "    complexity = input_file.split(\"_\")[-2]\n",
    "else:\n",
    "    complexity = input_file.split(\"_\")[-2]\n",
    "\n",
    "\n",
    "df1 = df2[(df2.Simulation == simulation) & (df2.Complexity == complexity)]\n",
    "try:\n",
    "    Phage_Count = int(df1['Phage'])\n",
    "except:\n",
    "    Phage_Count = 0\n",
    "try:\n",
    "    Prophage_Count = int(df1['Prophage'])\n",
    "except:\n",
    "    Prophage_Count = 0\n",
    "    \n",
    " \n",
    "\n",
    "headers = ['qseqid', 'sseqid','pident','length', 'mismatch', 'gapopen', 'qstart',\n",
    "           'qend', 'sstart', 'send', 'evalue', 'bitscore']\n",
    "df.columns = headers\n",
    "\n",
    "## Filter above bitscore 100 and evalue > 1e-5\n",
    "df_filtered = df[(df['evalue']<=1e-5) & (df['bitscore']>=100)]\n",
    "df_filtered = df_filtered[df_filtered['pident']>=80]"
   ]
  },
  {
   "cell_type": "code",
   "execution_count": 47,
   "metadata": {},
   "outputs": [],
   "source": [
    "df_filtered['Contig'] = [\"_\".join(x.split(\"_\")[:-1]) for x in df_filtered['qseqid']]\n",
    "x = df_filtered.groupby(\"Contig\").count()\n",
    "x = x[['evalue']]\n",
    "x = x.reset_index()\n",
    "x['True_Label'] = [y.split(\"_\")[0] for y in x['Contig']]\n",
    "y = x[[\"True_Label\", \"evalue\"]]\n",
    "y.columns = ['True_Label', 'Earth Virome Gene Hits']\n",
    "y = y.sort_values(by=\"Earth Virome Gene Hits\", ascending=False)"
   ]
  },
  {
   "cell_type": "code",
   "execution_count": 48,
   "metadata": {},
   "outputs": [],
   "source": [
    "my_dict = {}\n",
    "z = y[y['Earth Virome Gene Hits']>=1]\n",
    "e = z.groupby(\"True_Label\").count()\n",
    "FNP, FNPro = table_to_output(e)\n",
    "p, r, f1 = Score(FNP, FNPro, z)\n",
    "my_dict['Prophages_Bacteria'] = [p,r,f1]\n",
    "\n",
    "p, r, f1 = Score(FNP, FNPro, z, Prophage=False)\n",
    "my_dict['Prophages_Viruses'] = [p,r,f1]\n",
    "### Save output\n",
    "w = pd.DataFrame(my_dict.items(), columns=[\"Prophage Category\",2])\n",
    "w = w.set_index(\"Prophage Category\")\n",
    "w['Precision'] = [x[0] for x in w[2]]\n",
    "w['Recall'] = [x[1] for x in w[2]]\n",
    "w['F1 Score'] = [x[2] for x in w[2]]\n",
    "w = w.drop(2, axis=1)\n",
    "\n",
    "\n",
    "w['Simulation'] = \"zero\"\n",
    "w['Complexity'] = \"low\"\n",
    "w['Tool'] = 'Earth_Virome'\n",
    "w['Parameter'] = \"Full\"\n",
    "#w.to_csv(\"Earth_Virome_Output_without_prophages.csv\")\n",
    "w.to_csv(\"Earth_Virome_Output_ident.csv\", header=False, mode='a')\n",
    "#w"
   ]
  },
  {
   "cell_type": "code",
   "execution_count": 28,
   "metadata": {},
   "outputs": [
    {
     "data": {
      "text/html": [
       "<div>\n",
       "<style scoped>\n",
       "    .dataframe tbody tr th:only-of-type {\n",
       "        vertical-align: middle;\n",
       "    }\n",
       "\n",
       "    .dataframe tbody tr th {\n",
       "        vertical-align: top;\n",
       "    }\n",
       "\n",
       "    .dataframe thead th {\n",
       "        text-align: right;\n",
       "    }\n",
       "</style>\n",
       "<table border=\"1\" class=\"dataframe\">\n",
       "  <thead>\n",
       "    <tr style=\"text-align: right;\">\n",
       "      <th></th>\n",
       "      <th>Precision</th>\n",
       "      <th>Recall</th>\n",
       "      <th>F1 Score</th>\n",
       "      <th>Simulation</th>\n",
       "      <th>Complexity</th>\n",
       "      <th>Tool</th>\n",
       "      <th>Parameter</th>\n",
       "    </tr>\n",
       "    <tr>\n",
       "      <th>Prophage Category</th>\n",
       "      <th></th>\n",
       "      <th></th>\n",
       "      <th></th>\n",
       "      <th></th>\n",
       "      <th></th>\n",
       "      <th></th>\n",
       "      <th></th>\n",
       "    </tr>\n",
       "  </thead>\n",
       "  <tbody>\n",
       "    <tr>\n",
       "      <th>Prophages_Bacteria</th>\n",
       "      <td>0.055556</td>\n",
       "      <td>0.818182</td>\n",
       "      <td>0.104046</td>\n",
       "      <td>lognormal</td>\n",
       "      <td>low</td>\n",
       "      <td>Earth_Virome</td>\n",
       "      <td>Full</td>\n",
       "    </tr>\n",
       "    <tr>\n",
       "      <th>Prophages_Viruses</th>\n",
       "      <td>0.086420</td>\n",
       "      <td>0.212121</td>\n",
       "      <td>0.122807</td>\n",
       "      <td>lognormal</td>\n",
       "      <td>low</td>\n",
       "      <td>Earth_Virome</td>\n",
       "      <td>Full</td>\n",
       "    </tr>\n",
       "  </tbody>\n",
       "</table>\n",
       "</div>"
      ],
      "text/plain": [
       "                    Precision    Recall  F1 Score Simulation Complexity  \\\n",
       "Prophage Category                                                         \n",
       "Prophages_Bacteria   0.055556  0.818182  0.104046  lognormal        low   \n",
       "Prophages_Viruses    0.086420  0.212121  0.122807  lognormal        low   \n",
       "\n",
       "                            Tool Parameter  \n",
       "Prophage Category                           \n",
       "Prophages_Bacteria  Earth_Virome      Full  \n",
       "Prophages_Viruses   Earth_Virome      Full  "
      ]
     },
     "execution_count": 28,
     "metadata": {},
     "output_type": "execute_result"
    }
   ],
   "source": [
    "w"
   ]
  },
  {
   "cell_type": "code",
   "execution_count": 25,
   "metadata": {},
   "outputs": [
    {
     "name": "stdout",
     "output_type": "stream",
     "text": [
      "Scores if prophages are considered Bacteria\n",
      "Precision: 0.01042729230420492\n",
      "Recall: 0.5\n",
      "F1 Score: 0.02042855556789164\n",
      "Scores if prophages are considered Viruses\n",
      "Precision: 0.04813177679549662\n",
      "Recall: 0.5\n",
      "F1 Score: 0.08781059378984733\n"
     ]
    }
   ],
   "source": [
    "z = y[y['Earth Virome Gene Hits']>=1]\n",
    "e = z.groupby(\"True_Label\").count()\n",
    "FNP, FNPro = table_to_output(e)\n",
    "p, r, f1 = Score(FNP, FNPro, z)\n",
    "\n",
    "print(\"Scores if prophages are considered Bacteria\")\n",
    "print(\"Precision: \" + str(p))\n",
    "print(\"Recall: \" + str(r))\n",
    "print(\"F1 Score: \" + str(f1))\n",
    "\n",
    "p, r, f1 = Score(FNP, FNPro, z, Prophage=False)\n",
    "print(\"Scores if prophages are considered Viruses\")\n",
    "print(\"Precision: \" + str(p))\n",
    "print(\"Recall: \" + str(r))\n",
    "print(\"F1 Score: \" + str(f1))"
   ]
  },
  {
   "cell_type": "code",
   "execution_count": 13,
   "metadata": {},
   "outputs": [
    {
     "data": {
      "text/plain": [
       "1088"
      ]
     },
     "execution_count": 13,
     "metadata": {},
     "output_type": "execute_result"
    }
   ],
   "source": []
  },
  {
   "cell_type": "code",
   "execution_count": 11,
   "metadata": {},
   "outputs": [
    {
     "name": "stdout",
     "output_type": "stream",
     "text": [
      "Scores if prophages are considered Bacteria\n",
      "Precision: 0.07720588235294118\n",
      "Recall: 1.0\n",
      "F1 Score: 0.14334470989761094\n",
      "Scores if prophages are considered Viruses\n",
      "Precision: 0.10661764705882353\n",
      "Recall: 1.0\n",
      "F1 Score: 0.1926910299003322\n"
     ]
    },
    {
     "name": "stderr",
     "output_type": "stream",
     "text": [
      "/Users/stronglab2/anaconda2/lib/python2.7/site-packages/ipykernel_launcher.py:13: SettingWithCopyWarning: \n",
      "A value is trying to be set on a copy of a slice from a DataFrame.\n",
      "Try using .loc[row_indexer,col_indexer] = value instead\n",
      "\n",
      "See the caveats in the documentation: http://pandas.pydata.org/pandas-docs/stable/indexing.html#indexing-view-versus-copy\n",
      "  del sys.path[0]\n"
     ]
    }
   ],
   "source": [
    "z = y[y['Earth Virome Gene Hits']>=25]\n",
    "e = z.groupby(\"True_Label\").count()\n",
    "FNP, FNPro = table_to_output(e)\n",
    "p, r, f1 = Score(FNP, FNPro, z)\n",
    "print(\"Scores if prophages are considered Bacteria\")\n",
    "print(\"Precision: \" + str(p))\n",
    "print(\"Recall: \" + str(r))\n",
    "print(\"F1 Score: \" + str(f1))\n",
    "\n",
    "p, r, f1 = Score(FNP, FNPro, z, Prophage=False)\n",
    "print(\"Scores if prophages are considered Viruses\")\n",
    "print(\"Precision: \" + str(p))\n",
    "print(\"Recall: \" + str(r))\n",
    "print(\"F1 Score: \" + str(f1))"
   ]
  },
  {
   "cell_type": "code",
   "execution_count": 8,
   "metadata": {},
   "outputs": [
    {
     "name": "stdout",
     "output_type": "stream",
     "text": [
      "Scores if prophages are considered Bacteria\n",
      "Precision: 0.009900990099009901\n",
      "Recall: 1.0\n",
      "F1 Score: 0.0196078431372549\n",
      "Scores if prophages are considered Viruses\n",
      "Precision: 0.0144014401440144\n",
      "Recall: 1.0\n",
      "F1 Score: 0.028393966282165038\n"
     ]
    },
    {
     "name": "stderr",
     "output_type": "stream",
     "text": [
      "/Users/stronglab2/anaconda2/envs/py36/lib/python3.6/site-packages/ipykernel_launcher.py:13: SettingWithCopyWarning: \n",
      "A value is trying to be set on a copy of a slice from a DataFrame.\n",
      "Try using .loc[row_indexer,col_indexer] = value instead\n",
      "\n",
      "See the caveats in the documentation: http://pandas.pydata.org/pandas-docs/stable/indexing.html#indexing-view-versus-copy\n",
      "  del sys.path[0]\n"
     ]
    }
   ],
   "source": [
    "q = y[y['Earth Virome Gene Hits']>1]\n",
    "t = q.groupby(\"True_Label\").count()\n",
    "FNP, FNPro = table_to_output(t)\n",
    "p, r, f1 = Score(FNP, FNPro, q)\n",
    "print(\"Scores if prophages are considered Bacteria\")\n",
    "print(\"Precision: \" + str(p))\n",
    "print(\"Recall: \" + str(r))\n",
    "print(\"F1 Score: \" + str(f1))\n",
    "\n",
    "p, r, f1 = Score(FNP, FNPro, q, Prophage=False)\n",
    "print(\"Scores if prophages are considered Viruses\")\n",
    "print(\"Precision: \" + str(p))\n",
    "print(\"Recall: \" + str(r))\n",
    "print(\"F1 Score: \" + str(f1))"
   ]
  },
  {
   "cell_type": "code",
   "execution_count": 9,
   "metadata": {},
   "outputs": [
    {
     "name": "stdout",
     "output_type": "stream",
     "text": [
      "Scores if prophages are considered Bacteria\n",
      "Precision: 0.00636604774535809\n",
      "Recall: 1.0\n",
      "F1 Score: 0.012651555086979443\n",
      "Scores if prophages are considered Viruses\n",
      "Precision: 0.016976127320954906\n",
      "Recall: 1.0\n",
      "F1 Score: 0.03338549817423056\n"
     ]
    }
   ],
   "source": [
    "z = y.groupby(\"True_Label\").count()\n",
    "FNP, FNPro = table_to_output(z)\n",
    "## Prophage as bacteria\n",
    "p, r, f1 = Score(FNP, FNPro, y)\n",
    "print(\"Scores if prophages are considered Bacteria\")\n",
    "print(\"Precision: \" + str(p))\n",
    "print(\"Recall: \" + str(r))\n",
    "print(\"F1 Score: \" + str(f1))\n",
    "\n",
    "p, r, f1 = Score(FNP, FNPro, y, Prophage=False)\n",
    "print(\"Scores if prophages are considered Viruses\")\n",
    "print(\"Precision: \" + str(p))\n",
    "print(\"Recall: \" + str(r))\n",
    "print(\"F1 Score: \" + str(f1))\n"
   ]
  },
  {
   "cell_type": "code",
   "execution_count": null,
   "metadata": {},
   "outputs": [],
   "source": []
  },
  {
   "cell_type": "code",
   "execution_count": null,
   "metadata": {},
   "outputs": [],
   "source": []
  }
 ],
 "metadata": {
  "kernelspec": {
   "display_name": "Python 3",
   "language": "python",
   "name": "python3"
  },
  "language_info": {
   "codemirror_mode": {
    "name": "ipython",
    "version": 3
   },
   "file_extension": ".py",
   "mimetype": "text/x-python",
   "name": "python",
   "nbconvert_exporter": "python",
   "pygments_lexer": "ipython3",
   "version": "3.6.7"
  },
  "toc": {
   "base_numbering": 1,
   "nav_menu": {},
   "number_sections": true,
   "sideBar": true,
   "skip_h1_title": false,
   "title_cell": "Table of Contents",
   "title_sidebar": "Contents",
   "toc_cell": false,
   "toc_position": {},
   "toc_section_display": true,
   "toc_window_display": false
  }
 },
 "nbformat": 4,
 "nbformat_minor": 2
}
