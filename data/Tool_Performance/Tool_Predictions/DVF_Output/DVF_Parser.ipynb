{
 "cells": [
  {
   "cell_type": "code",
   "execution_count": 72,
   "metadata": {},
   "outputs": [
    {
     "name": "stdout",
     "output_type": "stream",
     "text": [
      "Scores if prophages are considered bacteria\n",
      "Precision: 0.5312273057371096\n",
      "Recall: 0.6462014134275619\n",
      "F1 Score: 0.5831008369868473\n",
      "Scores if prophages are considered bacteria\n",
      "Precision: 0.611837327523602\n",
      "Recall: 0.048348684399299874\n",
      "F1 Score: 0.08961574258742189\n"
     ]
    }
   ],
   "source": [
    "import pandas as pd\n",
    "from sklearn.metrics import precision_score, recall_score, f1_score\n",
    "input_file = \"Exponential_High_Complexity_Simulation/Exponential_High_Complexity_Simulation.fasta_gt500bp_dvfpred.txt\"\n",
    "df = pd.read_csv(input_file, sep=\"\\t\")\n",
    "df = df.sort_values(by=\"pvalue\")\n",
    "p_values = list(df['pvalue'])\n",
    "\n",
    "df['True_Label'] = [x.split(\"_\")[0] for x in df['name']]\n",
    "\n",
    "\n",
    "y_true = [1 if x == \"Phage\" else 0 for x in df['True_Label']]\n",
    "y_pred = [1 if x <= 0.01 else 0 for x in df['pvalue']]\n",
    "\n",
    "\n",
    "p = precision_score(y_true, y_pred)\n",
    "r = recall_score(y_true, y_pred)\n",
    "f1 = f1_score(y_true, y_pred)\n",
    "print(\"Scores if prophages are considered bacteria\")\n",
    "print(\"Precision: \" + str(p))\n",
    "print(\"Recall: \" + str(r))\n",
    "print(\"F1 Score: \" + str(f1))\n",
    "my_dict = {}\n",
    "my_dict['Prophage_Bacteria'] = [p,r,f1]\n",
    "\n",
    "df['True_Label'] = df['True_Label'].replace(regex='Prophage', value=\"Phage\")\n",
    "y_true = [1 if x == \"Phage\" else 0 for x in df['True_Label']]\n",
    "y_pred = [1 if x <= 0.01 else 0 for x in df['pvalue']]\n",
    "\n",
    "\n"
   ]
  },
  {
   "cell_type": "code",
   "execution_count": null,
   "metadata": {},
   "outputs": [],
   "source": []
  },
  {
   "cell_type": "markdown",
   "metadata": {},
   "source": [
    "### Remove Prophage"
   ]
  },
  {
   "cell_type": "code",
   "execution_count": 12,
   "metadata": {},
   "outputs": [
    {
     "name": "stdout",
     "output_type": "stream",
     "text": [
      "293877\n",
      "240288\n",
      "Scores if prophages are considered bacteria\n",
      "Precision: 0.5167348904406454\n",
      "Recall: 0.692258064516129\n",
      "F1 Score: 0.5917551358058735\n"
     ]
    }
   ],
   "source": [
    "import pandas as pd\n",
    "from sklearn.metrics import precision_score, recall_score, f1_score\n",
    "input_file = \"Uniform_High_Complexity_Simulation/Uniform_High_Complexity_Simulation.fasta_gt500bp_dvfpred.txt\"\n",
    "df = pd.read_csv(input_file, sep=\"\\t\")\n",
    "df = df.sort_values(by=\"pvalue\")\n",
    "p_values = list(df['pvalue'])\n",
    "\n",
    "df['True_Label'] = [x.split(\"_\")[0] for x in df['name']]\n",
    "print(len(df))\n",
    "df = df[df['True_Label']!=\"Prophage\"]\n",
    "print(len(df))\n",
    "y_true = [1 if x == \"Phage\" else 0 for x in df['True_Label']]\n",
    "y_pred = [1 if x <= 0.01 else 0 for x in df['pvalue']]\n",
    "\n",
    "\n",
    "p = precision_score(y_true, y_pred)\n",
    "r = recall_score(y_true, y_pred)\n",
    "f1 = f1_score(y_true, y_pred)\n",
    "print(\"Scores if prophages are considered bacteria\")\n",
    "print(\"Precision: \" + str(p))\n",
    "print(\"Recall: \" + str(r))\n",
    "print(\"F1 Score: \" + str(f1))\n",
    "my_dict = {}\n",
    "my_dict['Prophage_Bacteria'] = [p,r,f1]\n",
    "\n",
    "\n",
    "w = pd.DataFrame(my_dict.items(), columns=[\"Prophage Category\",2])\n",
    "w = w.set_index(\"Prophage Category\")\n",
    "w['Precision'] = [x[0] for x in w[2]]\n",
    "w['Recall'] = [x[1] for x in w[2]]\n",
    "w['F1 Score'] = [x[2] for x in w[2]]\n",
    "\n",
    "w['Simulation'] = \"uniform\"\n",
    "w['Complexity'] = \"high\"\n",
    "w['Tool'] = \"DeepVirFinder\"\n",
    "w['Parameter'] = 0.01\n",
    "\n",
    "w = w.drop(2, axis=1)\n",
    "w.to_csv(\"DeepVirFinder_Prophages_Removed.csv\", header=None, mode='a')"
   ]
  },
  {
   "cell_type": "code",
   "execution_count": null,
   "metadata": {},
   "outputs": [],
   "source": [
    "df = pd.read_csv(input_file)\n",
    "df = df.sort_values(by=\"pvalue\")"
   ]
  },
  {
   "cell_type": "markdown",
   "metadata": {},
   "source": [
    "### DeepVirFinder Thresholding Analysis "
   ]
  },
  {
   "cell_type": "code",
   "execution_count": 5,
   "metadata": {},
   "outputs": [],
   "source": [
    "import pandas as pd\n",
    "from sklearn.metrics import precision_score, recall_score, f1_score\n",
    "import numpy as np\n",
    "\n",
    "def DVF_Thresholding(input_file, simulation, complexity):\n",
    "    df = pd.read_csv(input_file, sep=\"\\t\")\n",
    "    df = df.sort_values(by=\"pvalue\")\n",
    "\n",
    "    df['True_Label'] = [x.split(\"_\")[0] for x in df['name']]\n",
    "    \n",
    "    \n",
    "    b_dict = {}\n",
    "    v_dict = {}\n",
    "    \n",
    "    for item in np.arange(0.005,0.10, 0.005):\n",
    "       \n",
    "        y_true = [1 if x == \"Phage\" else 0 for x in df['True_Label']]\n",
    "        y_pred = [1 if x <= item else 0 for x in df['pvalue']]\n",
    "\n",
    "        f1 = f1_score(y_true, y_pred)\n",
    "   \n",
    "        name = 'Prophage_Bacteria_'+ simulation + \"_\" + complexity + \"_\" +str(round(item, 4))\n",
    "        b_dict[name] = [f1]\n",
    "        \n",
    "    \n",
    "    df['True_Label'] = df['True_Label'].replace(regex='Prophage', value=\"Phage\")\n",
    "    for item in np.arange(0.005,0.10, 0.005):  \n",
    "        ### Viral\n",
    "        y_true = [1 if x == \"Phage\" else 0 for x in df['True_Label']]\n",
    "        y_pred = [1 if x <= item else 0 for x in df['pvalue']]\n",
    "\n",
    "        f1 = f1_score(y_true, y_pred)\n",
    "\n",
    "        name = 'Prophage_Viral_'+ simulation + \"_\" + complexity + \"_\" +str(round(item, 4))\n",
    "        v_dict[name] = [f1]\n",
    "        \n",
    "    top_b = max(b_dict, key=b_dict.get)\n",
    "    top_v = max(v_dict, key=v_dict.get)\n",
    "        \n",
    "        \n",
    "    return(top_b, b_dict[top_b], top_v, v_dict[top_v])"
   ]
  },
  {
   "cell_type": "code",
   "execution_count": 7,
   "metadata": {},
   "outputs": [],
   "source": [
    "bac = {}\n",
    "vir = {}\n",
    "nameb, scoreb, namev, scorev = DVF_Thresholding(\"Uniform_High_Complexity_Simulation/Uniform_High_Complexity_Simulation.fasta_gt500bp_dvfpred.txt\", \"uniform\", \"high\")\n",
    "bac[nameb] = scoreb\n",
    "vir[namev] = scorev\n",
    "nameb, scoreb, namev, scorev = DVF_Thresholding(\"Uniform_Medium_Complexity_Simulation/Uniform_Medium_Complexity_Simulation.fasta_gt500bp_dvfpred.txt\", 'uniform', \"medium\")\n",
    "bac[nameb] = scoreb\n",
    "vir[namev] = scorev\n",
    "nameb, scoreb, namev, scorev = DVF_Thresholding(\"Uniform_Low_Complexity_Simulation/Uniform_Low_Complexity_Simulation.fasta_gt500bp_dvfpred.txt\", \"uniform\", \"low\")\n",
    "bac[nameb] = scoreb\n",
    "vir[namev] = scorev\n",
    "\n",
    "\n",
    "nameb, scoreb, namev, scorev = DVF_Thresholding(\"Lognormal_High_Complexity_Simulation/Lognormal_High_Complexity_Simulation.fasta_gt500bp_dvfpred.txt\", \"lognormal\", \"high\")\n",
    "bac[nameb] = scoreb\n",
    "vir[namev] = scorev\n",
    "nameb, scoreb, namev, scorev = DVF_Thresholding(\"Lognormal_Medium_Complexity_Simulation/Lognormal_Medium_Complexity_Simulation.fasta_gt500bp_dvfpred.txt\", 'lognormal', \"medium\")\n",
    "bac[nameb] = scoreb\n",
    "vir[namev] = scorev\n",
    "nameb, scoreb, namev, scorev = DVF_Thresholding(\"Lognormal_Low_Complexity_Simulation/Lognormal_Low_Complexity_Simulation.fasta_gt500bp_dvfpred.txt\", \"lognormal\", \"low\")\n",
    "bac[nameb] = scoreb\n",
    "vir[namev] = scorev\n",
    "\n",
    "nameb, scoreb, namev, scorev = DVF_Thresholding(\"Zero_Inflated_Lognormal_High_Complexity_Simulation/Zero_Inflated_Lognormal_High_Complexity_Simulation.fasta_gt500bp_dvfpred.txt\", \"zero\", \"high\")\n",
    "bac[nameb] = scoreb\n",
    "vir[namev] = scorev\n",
    "nameb, scoreb, namev, scorev = DVF_Thresholding(\"Zero_Inflated_Lognormal_Medium_Complexity_Simulation/Zero_Inflated_Lognormal_Medium_Complexity_Simulation.fasta_gt500bp_dvfpred.txt\", 'zero', \"medium\")\n",
    "bac[nameb] = scoreb\n",
    "vir[namev] = scorev\n",
    "nameb, scoreb, namev, scorev = DVF_Thresholding(\"Zero_Inflated_Lognormal_Low_Complexity_Simulation/Zero_Inflated_Lognormal_Low_Complexity_Simulation.fasta_gt500bp_dvfpred.txt\", \"zero\", \"low\")\n",
    "bac[nameb] = scoreb\n",
    "vir[namev] = scorev\n",
    "\n",
    "\n",
    "nameb, scoreb, namev, scorev = DVF_Thresholding(\"Exponential_High_Complexity_Simulation/Exponential_High_Complexity_Simulation.fasta_gt500bp_dvfpred.txt\", \"exponential\", \"high\")\n",
    "bac[nameb] = scoreb\n",
    "vir[namev] = scorev\n",
    "nameb, scoreb, namev, scorev = DVF_Thresholding(\"Exponential_Medium_Complexity_Simulation/Exponential_Medium_Complexity_Simulation.fasta_gt500bp_dvfpred.txt\", 'exponential', \"medium\")\n",
    "bac[nameb] = scoreb\n",
    "vir[namev] = scorev\n",
    "nameb, scoreb, namev, scorev = DVF_Thresholding(\"Exponential_Low_Complexity_Simulation/Exponential_Low_Complexity_Simulation.fasta_gt500bp_dvfpred.txt\", \"exponential\", \"low\")\n",
    "bac[nameb] = scoreb\n",
    "vir[namev] = scorev"
   ]
  },
  {
   "cell_type": "code",
   "execution_count": 8,
   "metadata": {},
   "outputs": [
    {
     "data": {
      "text/plain": [
       "{'Prophage_Bacteria_exponential_high_0.01': [0.5831008369868473],\n",
       " 'Prophage_Bacteria_exponential_low_0.01': [0.8363636363636363],\n",
       " 'Prophage_Bacteria_exponential_medium_0.005': [0.6090373280943026],\n",
       " 'Prophage_Bacteria_lognormal_high_0.01': [0.639494026704146],\n",
       " 'Prophage_Bacteria_lognormal_low_0.01': [0.42105263157894735],\n",
       " 'Prophage_Bacteria_lognormal_medium_0.005': [0.6080760095011876],\n",
       " 'Prophage_Bacteria_uniform_high_0.005': [0.5835359499826329],\n",
       " 'Prophage_Bacteria_uniform_low_0.01': [0.7692307692307693],\n",
       " 'Prophage_Bacteria_uniform_medium_0.005': [0.7367506516072979],\n",
       " 'Prophage_Bacteria_zero_high_0.005': [0.5774086378737541],\n",
       " 'Prophage_Bacteria_zero_low_0.01': [0.6],\n",
       " 'Prophage_Bacteria_zero_medium_0.005': [0.7048567870485679]}"
      ]
     },
     "execution_count": 8,
     "metadata": {},
     "output_type": "execute_result"
    }
   ],
   "source": [
    "bac"
   ]
  },
  {
   "cell_type": "code",
   "execution_count": null,
   "metadata": {},
   "outputs": [],
   "source": []
  },
  {
   "cell_type": "code",
   "execution_count": null,
   "metadata": {},
   "outputs": [],
   "source": []
  },
  {
   "cell_type": "code",
   "execution_count": null,
   "metadata": {},
   "outputs": [],
   "source": []
  },
  {
   "cell_type": "code",
   "execution_count": null,
   "metadata": {},
   "outputs": [],
   "source": [
    "import pandas as pd\n",
    "from sklearn.metrics import precision_score, recall_score, f1_score\n",
    "input_file = \"Exponential_High_Complexity_Simulation/Exponential_High_Complexity_Simulation.fasta_gt500bp_dvfpred.txt\"\n",
    "df = pd.read_csv(input_file, sep=\"\\t\")\n",
    "df = df.sort_values(by=\"pvalue\")\n",
    "p_values = list(df['pvalue'])\n",
    "\n",
    "df['True_Label'] = [x.split(\"_\")[0] for x in df['name']]\n",
    "\n",
    "\n",
    "y_true = [1 if x == \"Phage\" else 0 for x in df['True_Label']]\n",
    "y_pred = [1 if x <= 0.01 else 0 for x in df['pvalue']]\n",
    "\n",
    "\n",
    "p = precision_score(y_true, y_pred)\n",
    "r = recall_score(y_true, y_pred)\n",
    "f1 = f1_score(y_true, y_pred)\n",
    "print(\"Scores if prophages are considered bacteria\")\n",
    "print(\"Precision: \" + str(p))\n",
    "print(\"Recall: \" + str(r))\n",
    "print(\"F1 Score: \" + str(f1))\n",
    "my_dict = {}\n",
    "my_dict['Prophage_Bacteria'] = [p,r,f1]\n",
    "\n",
    "df['True_Label'] = df['True_Label'].replace(regex='Prophage', value=\"Phage\")\n",
    "y_true = [1 if x == \"Phage\" else 0 for x in df['True_Label']]\n",
    "y_pred = [1 if x <= 0.01 else 0 for x in df['pvalue']]\n",
    "\n",
    "\n",
    "w = pd.DataFrame(my_dict.items(), columns=[\"Prophage Category\",2])\n",
    "w = w.set_index(\"Prophage Category\")\n",
    "w['Precision'] = [x[0] for x in w[2]]\n",
    "w['Recall'] = [x[1] for x in w[2]]\n",
    "w['F1 Score'] = [x[2] for x in w[2]]\n",
    "\n",
    "w['Simulation'] = \"uniform\"\n",
    "w['Complexity'] = \"high\"\n",
    "w['Tool'] = \"DeepVirFinder\"\n",
    "w['Parameter'] = 0.01\n",
    "\n",
    "w = w.drop(2, axis=1)\n",
    "w.to_csv(\"DeepVirFinder_Prophages_Removed.csv\", header=None, mode='a')"
   ]
  },
  {
   "cell_type": "code",
   "execution_count": null,
   "metadata": {},
   "outputs": [],
   "source": []
  },
  {
   "cell_type": "code",
   "execution_count": null,
   "metadata": {},
   "outputs": [],
   "source": []
  },
  {
   "cell_type": "code",
   "execution_count": null,
   "metadata": {},
   "outputs": [],
   "source": []
  },
  {
   "cell_type": "code",
   "execution_count": null,
   "metadata": {},
   "outputs": [],
   "source": []
  },
  {
   "cell_type": "code",
   "execution_count": null,
   "metadata": {},
   "outputs": [],
   "source": []
  },
  {
   "cell_type": "code",
   "execution_count": null,
   "metadata": {},
   "outputs": [],
   "source": []
  },
  {
   "cell_type": "code",
   "execution_count": 22,
   "metadata": {},
   "outputs": [],
   "source": [
    "from statsmodels.stats.multitest import fdrcorrection\n",
    "x = fdrcorrection(p_values, alpha=0.05, method=\"p\", is_sorted=True)"
   ]
  },
  {
   "cell_type": "code",
   "execution_count": 23,
   "metadata": {},
   "outputs": [],
   "source": [
    "df['fdr'] = x[1]"
   ]
  },
  {
   "cell_type": "code",
   "execution_count": 11,
   "metadata": {},
   "outputs": [],
   "source": [
    "df_phages = df[df['pvalue']<=0.05]"
   ]
  },
  {
   "cell_type": "code",
   "execution_count": 12,
   "metadata": {},
   "outputs": [
    {
     "data": {
      "text/plain": [
       "11450"
      ]
     },
     "execution_count": 12,
     "metadata": {},
     "output_type": "execute_result"
    }
   ],
   "source": [
    "len(df_phages)"
   ]
  },
  {
   "cell_type": "code",
   "execution_count": 13,
   "metadata": {},
   "outputs": [
    {
     "name": "stderr",
     "output_type": "stream",
     "text": [
      "/Users/stronglab2/anaconda2/lib/python2.7/site-packages/ipykernel_launcher.py:1: SettingWithCopyWarning: \n",
      "A value is trying to be set on a copy of a slice from a DataFrame.\n",
      "Try using .loc[row_indexer,col_indexer] = value instead\n",
      "\n",
      "See the caveats in the documentation: http://pandas.pydata.org/pandas-docs/stable/indexing.html#indexing-view-versus-copy\n",
      "  \"\"\"Entry point for launching an IPython kernel.\n"
     ]
    }
   ],
   "source": [
    "df_phages['True_Label'] = [x.split(\"_\")[0] for x in df_phages['name']]"
   ]
  },
  {
   "cell_type": "code",
   "execution_count": 14,
   "metadata": {},
   "outputs": [
    {
     "data": {
      "text/html": [
       "<div>\n",
       "<style scoped>\n",
       "    .dataframe tbody tr th:only-of-type {\n",
       "        vertical-align: middle;\n",
       "    }\n",
       "\n",
       "    .dataframe tbody tr th {\n",
       "        vertical-align: top;\n",
       "    }\n",
       "\n",
       "    .dataframe thead th {\n",
       "        text-align: right;\n",
       "    }\n",
       "</style>\n",
       "<table border=\"1\" class=\"dataframe\">\n",
       "  <thead>\n",
       "    <tr style=\"text-align: right;\">\n",
       "      <th></th>\n",
       "      <th>name</th>\n",
       "      <th>len</th>\n",
       "      <th>score</th>\n",
       "      <th>pvalue</th>\n",
       "    </tr>\n",
       "    <tr>\n",
       "      <th>True_Label</th>\n",
       "      <th></th>\n",
       "      <th></th>\n",
       "      <th></th>\n",
       "      <th></th>\n",
       "    </tr>\n",
       "  </thead>\n",
       "  <tbody>\n",
       "    <tr>\n",
       "      <th>Bacteria</th>\n",
       "      <td>7827</td>\n",
       "      <td>7827</td>\n",
       "      <td>7827</td>\n",
       "      <td>7827</td>\n",
       "    </tr>\n",
       "    <tr>\n",
       "      <th>Eukaroyte</th>\n",
       "      <td>123</td>\n",
       "      <td>123</td>\n",
       "      <td>123</td>\n",
       "      <td>123</td>\n",
       "    </tr>\n",
       "    <tr>\n",
       "      <th>Phage</th>\n",
       "      <td>2001</td>\n",
       "      <td>2001</td>\n",
       "      <td>2001</td>\n",
       "      <td>2001</td>\n",
       "    </tr>\n",
       "    <tr>\n",
       "      <th>Prophage</th>\n",
       "      <td>1499</td>\n",
       "      <td>1499</td>\n",
       "      <td>1499</td>\n",
       "      <td>1499</td>\n",
       "    </tr>\n",
       "  </tbody>\n",
       "</table>\n",
       "</div>"
      ],
      "text/plain": [
       "            name   len  score  pvalue\n",
       "True_Label                           \n",
       "Bacteria    7827  7827   7827    7827\n",
       "Eukaroyte    123   123    123     123\n",
       "Phage       2001  2001   2001    2001\n",
       "Prophage    1499  1499   1499    1499"
      ]
     },
     "execution_count": 14,
     "metadata": {},
     "output_type": "execute_result"
    }
   ],
   "source": [
    "df_phages.groupby(\"True_Label\").count()"
   ]
  },
  {
   "cell_type": "code",
   "execution_count": null,
   "metadata": {},
   "outputs": [],
   "source": []
  },
  {
   "cell_type": "code",
   "execution_count": null,
   "metadata": {},
   "outputs": [],
   "source": []
  },
  {
   "cell_type": "code",
   "execution_count": null,
   "metadata": {},
   "outputs": [],
   "source": []
  },
  {
   "cell_type": "code",
   "execution_count": null,
   "metadata": {},
   "outputs": [],
   "source": []
  },
  {
   "cell_type": "code",
   "execution_count": null,
   "metadata": {},
   "outputs": [],
   "source": []
  }
 ],
 "metadata": {
  "kernelspec": {
   "display_name": "Python 3",
   "language": "python",
   "name": "python3"
  },
  "language_info": {
   "codemirror_mode": {
    "name": "ipython",
    "version": 2
   },
   "file_extension": ".py",
   "mimetype": "text/x-python",
   "name": "python",
   "nbconvert_exporter": "python",
   "pygments_lexer": "ipython2",
   "version": "2.7.15"
  },
  "toc": {
   "base_numbering": 1,
   "nav_menu": {},
   "number_sections": true,
   "sideBar": true,
   "skip_h1_title": false,
   "title_cell": "Table of Contents",
   "title_sidebar": "Contents",
   "toc_cell": false,
   "toc_position": {},
   "toc_section_display": true,
   "toc_window_display": false
  }
 },
 "nbformat": 4,
 "nbformat_minor": 2
}
